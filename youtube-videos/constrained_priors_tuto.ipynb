{
 "cells": [
  {
   "cell_type": "markdown",
   "id": "75ceaa3a",
   "metadata": {
    "slideshow": {
     "slide_type": "slide"
    }
   },
   "source": [
    "# Tutorial: Choosing priors under constraints"
   ]
  },
  {
   "cell_type": "markdown",
   "id": "276aeb4b",
   "metadata": {
    "slideshow": {
     "slide_type": "notes"
    }
   },
   "source": [
    "_**NB: you need PyMC >= 4.0 to run this notebook**_"
   ]
  },
  {
   "cell_type": "markdown",
   "id": "d84adfc1",
   "metadata": {
    "slideshow": {
     "slide_type": "slide"
    }
   },
   "source": [
    "Problems as a modeler:\n",
    "\n",
    "- You know you want a Gamma prior (positive values) or a Beta ($[0, 1]$ values), but these distributions are way less intuitive to parametrize than the Normal"
   ]
  },
  {
   "cell_type": "markdown",
   "id": "dc0e10af",
   "metadata": {
    "slideshow": {
     "slide_type": "slide"
    }
   },
   "source": [
    "- People don't understand your job, so you end up alone at the party\n",
    "\n",
    "![alone](https://media.giphy.com/media/W0c3xcZ3F1d0EYYb0f/giphy.gif)"
   ]
  },
  {
   "cell_type": "markdown",
   "id": "e549353e",
   "metadata": {
    "slideshow": {
     "slide_type": "notes"
    }
   },
   "source": [
    "Actually, we won't cover that second problem here -- the video would be way too long"
   ]
  },
  {
   "cell_type": "markdown",
   "id": "3e3c364e",
   "metadata": {
    "slideshow": {
     "slide_type": "slide"
    }
   },
   "source": [
    "- You need a non-stats person to define your prior. They neither know nor care about Gamma or Beta, but they give you important information:\n",
    "\n",
    "> I bet that we need to spend **between 0.1 and 3 dollars** on Google ads to get one additional sale -- I'm almost sure it's not less, but maybe it's more."
   ]
  },
  {
   "cell_type": "markdown",
   "id": "7034f989",
   "metadata": {
    "slideshow": {
     "slide_type": "slide"
    }
   },
   "source": [
    "As a statistician, you can translate that into:\n",
    "\n",
    "> **I need a Gamma that has 95% probability mass between 0.1 and 3**"
   ]
  },
  {
   "cell_type": "markdown",
   "id": "67be2a18",
   "metadata": {
    "slideshow": {
     "slide_type": "notes"
    }
   },
   "source": [
    "**By hand, it may take you a loooooong time** to find an appropriate combination of parameters that give you a decent Gamma -- the drawback of the flexibility.\n",
    "\n",
    "Now we have two options:"
   ]
  },
  {
   "cell_type": "markdown",
   "id": "ff077aa9",
   "metadata": {
    "slideshow": {
     "slide_type": "slide"
    }
   },
   "source": [
    "1. Despair and cry\n",
    "\n",
    "![cry](https://media.giphy.com/media/d2lcHJTG5Tscg/giphy.gif)"
   ]
  },
  {
   "cell_type": "markdown",
   "id": "4611f74e",
   "metadata": {
    "slideshow": {
     "slide_type": "slide"
    }
   },
   "source": [
    "2. Not despair and use the new `pymc.find_constrained_prior` function\n",
    "\n",
    "![BringIt](https://media.giphy.com/media/sG4zmff2zDOp7t2MNA/giphy.gif)"
   ]
  },
  {
   "cell_type": "markdown",
   "id": "e3339912",
   "metadata": {
    "slideshow": {
     "slide_type": "notes"
    }
   },
   "source": [
    "We'll demonstrate how to do option 1 in another video. For now, let's choose option 2!"
   ]
  },
  {
   "cell_type": "markdown",
   "id": "1438e884",
   "metadata": {
    "slideshow": {
     "slide_type": "slide"
    }
   },
   "source": [
    "Under the hood, PyMC is going to ask scipy's optimizer:\n",
    "\n",
    "> **What are the $\\alpha$ and $\\beta$ parameters that fit the user's constraint?**"
   ]
  },
  {
   "cell_type": "code",
   "execution_count": 1,
   "id": "91709c74",
   "metadata": {
    "slideshow": {
     "slide_type": "slide"
    }
   },
   "outputs": [],
   "source": [
    "import arviz as az\n",
    "import numpy as np\n",
    "import pymc as pm"
   ]
  },
  {
   "cell_type": "code",
   "execution_count": 2,
   "id": "08a9b87f",
   "metadata": {
    "slideshow": {
     "slide_type": "slide"
    }
   },
   "outputs": [
    {
     "name": "stderr",
     "output_type": "stream",
     "text": [
      "WARNING (aesara.tensor.basic_opt): Optimization Warning: The Op gammainc_der does not provide a C implementation. As well as being potentially slow, this also disables loop fusion.\n"
     ]
    }
   ],
   "source": [
    "MASS = 0.95\n",
    "LOWER = 0.1\n",
    "UPPER = 3\n",
    "constrained_priors = pm.find_constrained_prior(\n",
    "    pm.Gamma, lower=LOWER, upper=UPPER, mass=MASS, init_guess=dict(alpha=1, beta=1)\n",
    ")"
   ]
  },
  {
   "cell_type": "markdown",
   "id": "742b4369",
   "metadata": {
    "slideshow": {
     "slide_type": "notes"
    }
   },
   "source": [
    "We're getting back the optimized distribution's parameters:"
   ]
  },
  {
   "cell_type": "code",
   "execution_count": 3,
   "id": "bf6fdbed",
   "metadata": {
    "slideshow": {
     "slide_type": "slide"
    }
   },
   "outputs": [
    {
     "data": {
      "text/plain": [
       "{'alpha': 2.2002514675808746, 'beta': 1.7605241820687383}"
      ]
     },
     "execution_count": 3,
     "metadata": {},
     "output_type": "execute_result"
    }
   ],
   "source": [
    "constrained_priors"
   ]
  },
  {
   "cell_type": "markdown",
   "id": "f1196353",
   "metadata": {
    "slideshow": {
     "slide_type": "slide"
    }
   },
   "source": [
    "**How do we use this in our PyMC model?** \n",
    "\n",
    "Easy!"
   ]
  },
  {
   "cell_type": "code",
   "execution_count": 6,
   "id": "e1de28d5",
   "metadata": {
    "slideshow": {
     "slide_type": "slide"
    }
   },
   "outputs": [],
   "source": [
    "with pm.Model() as my_super_model:\n",
    "    my_beautiful_var = pm.Gamma(\"my_beautiful_var\", **constrained_priors)"
   ]
  },
  {
   "cell_type": "markdown",
   "id": "0548e848",
   "metadata": {
    "slideshow": {
     "slide_type": "notes"
    }
   },
   "source": [
    "Now you may ask: what does this distribution look like? Go ahead, ask it! \n",
    "\n",
    "My answer: let's draw samples from it and plot them!"
   ]
  },
  {
   "cell_type": "code",
   "execution_count": 11,
   "id": "98047228",
   "metadata": {
    "slideshow": {
     "slide_type": "slide"
    }
   },
   "outputs": [],
   "source": [
    "draws = pm.draw(my_beautiful_var, draws=10_000)"
   ]
  },
  {
   "cell_type": "code",
   "execution_count": 12,
   "id": "f83b193c",
   "metadata": {
    "slideshow": {
     "slide_type": "slide"
    }
   },
   "outputs": [
    {
     "data": {
      "image/png": "[encoded data removed]",
      "text/plain": [
       "<Figure size 720x480 with 1 Axes>"
      ]
     },
     "metadata": {},
     "output_type": "display_data"
    }
   ],
   "source": [
    "az.style.use(\"arviz-darkgrid\")\n",
    "ax = az.plot_dist(draws)\n",
    "ax.set_title(\n",
    "    f\"Random draws from $Gamma({round(constrained_priors['alpha'], 1)}, {round(constrained_priors['beta'], 1)})$\"\n",
    ");"
   ]
  },
  {
   "cell_type": "markdown",
   "id": "4005128a",
   "metadata": {
    "slideshow": {
     "slide_type": "notes"
    }
   },
   "source": [
    "And boom! Indeed, our constraint seems to be respected. To be completely honest, I'm _sure_ it is -- the maths are telling us: PyMC runs some tests in the background, so if any issue appears, it would have warned us that our constraint is not respected."
   ]
  },
  {
   "cell_type": "markdown",
   "id": "21d9974c",
   "metadata": {
    "slideshow": {
     "slide_type": "slide"
    }
   },
   "source": [
    "And on that note, PyMCheers, and best Bayesian wishes, wherever you are 🖖\n",
    "\n",
    "![MicDrop](https://media.giphy.com/media/3o7qDSOvfaCO9b3MlO/giphy.gif)"
   ]
  }
 ],
 "metadata": {
  "celltoolbar": "Diaporama",
  "kernelspec": {
   "display_name": "pymc-dev-py39",
   "language": "python",
   "name": "pymc-dev-py39"
  },
  "language_info": {
   "codemirror_mode": {
    "name": "ipython",
    "version": 3
   },
   "file_extension": ".py",
   "mimetype": "text/x-python",
   "name": "python",
   "nbconvert_exporter": "python",
   "pygments_lexer": "ipython3",
   "version": "3.9.12"
  }
 },
 "nbformat": 4,
 "nbformat_minor": 5
}
